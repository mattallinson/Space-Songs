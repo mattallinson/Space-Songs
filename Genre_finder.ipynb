{
 "cells": [
  {
   "cell_type": "code",
   "execution_count": 40,
   "metadata": {},
   "outputs": [],
   "source": [
    "import requests\n",
    "import json"
   ]
  },
  {
   "cell_type": "code",
   "execution_count": 8,
   "metadata": {},
   "outputs": [],
   "source": [
    "with open(\"auth.json\") as auth_file:\n",
    "    auth = json.load(auth_file)"
   ]
  },
  {
   "cell_type": "code",
   "execution_count": 36,
   "metadata": {},
   "outputs": [],
   "source": [
    "API_KEY, API_SECRET = auth[\"API_KEY\"], auth[\"API_SECRET\"]"
   ]
  },
  {
   "cell_type": "markdown",
   "metadata": {},
   "source": [
    "## Example code\n",
    "\n",
    "This link http://ws.audioscrobbler.com/2.0/?method=track.gettoptags&artist=radiohead&track=paranoid+android&api_key=111222333444555666&format=json works nicely with a correct API Key.\n",
    "\n",
    "Let's break this down, we need the following keys for params:\n",
    "* method\n",
    "* artist\n",
    "* track\n",
    "* api_key\n",
    "* format\n",
    "\n"
   ]
  },
  {
   "cell_type": "code",
   "execution_count": 51,
   "metadata": {},
   "outputs": [],
   "source": [
    "URL = \"http://ws.audioscrobbler.com/2.0/\"\n",
    "\n",
    "def tag_finder(artist, track):\n",
    "    payload = {\n",
    "        \"method\" : \"track.gettoptags\",\n",
    "        \"artist\" : artist,\n",
    "        \"track\" : track,\n",
    "        \"api_key\" : API_KEY,\n",
    "        \"format\" : \"json\"\n",
    "    }\n",
    "    \n",
    "    request = requests.get(URL,params=payload)\n",
    "    return request.json()\n",
    "    "
   ]
  },
  {
   "cell_type": "markdown",
   "metadata": {},
   "source": [
    "Okay so the above nicely reurns a dict of the JSON response from Last.fm. Needs error handling though. "
   ]
  },
  {
   "cell_type": "code",
   "execution_count": 70,
   "metadata": {},
   "outputs": [
    {
     "name": "stdout",
     "output_type": "stream",
     "text": [
      "['classic rock', '60s', 'The Beatles', 'rock', 'british']\n"
     ]
    }
   ],
   "source": [
    "song = tag_finder(\"The Beatles\", \"Hey Jude\")\n",
    "\n",
    "print([song['toptags']['tag'][i]['name'] for i in range(5)])"
   ]
  },
  {
   "cell_type": "markdown",
   "metadata": {},
   "source": [
    "hmmmm I worry that the genred selection of millenials 13 years ago might not be fab after all... well, let's hope and see"
   ]
  },
  {
   "cell_type": "code",
   "execution_count": null,
   "metadata": {},
   "outputs": [],
   "source": []
  }
 ],
 "metadata": {
  "kernelspec": {
   "display_name": "Python 3",
   "language": "python",
   "name": "python3"
  },
  "language_info": {
   "codemirror_mode": {
    "name": "ipython",
    "version": 3
   },
   "file_extension": ".py",
   "mimetype": "text/x-python",
   "name": "python",
   "nbconvert_exporter": "python",
   "pygments_lexer": "ipython3",
   "version": "3.6.8"
  }
 },
 "nbformat": 4,
 "nbformat_minor": 2
}

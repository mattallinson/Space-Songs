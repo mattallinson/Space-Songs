{
 "cells": [
  {
   "cell_type": "code",
   "execution_count": 1,
   "metadata": {},
   "outputs": [],
   "source": [
    "import docx\n",
    "import re\n",
    "from datetime import datetime\n",
    "import csv\n",
    "import json"
   ]
  },
  {
   "cell_type": "code",
   "execution_count": 2,
   "metadata": {},
   "outputs": [],
   "source": [
    "class Mission:\n",
    "    '''A class that contains all the data for each of the shuttle\n",
    "    missions, as read from the word document provided by NASA\n",
    "    '''\n",
    "    name = None\n",
    "    notes = ''    \n",
    "    mission_start = None\n",
    "    mission_end = None\n",
    "    \n",
    "    def __init__(self, mission_data):\n",
    "        self.days = []\n",
    "        self.name  = mission_data[0].strip()\n",
    "        \n",
    "        launch_date = ' '.join([mission_data[1],mission_data[2],mission_data[5]])\n",
    "        self.mission_start = datetime.strptime(launch_date, MISSION_DATE_FORMAT).strftime('%m/%d/%Y')\n",
    "        \n",
    "        if mission_data[4] is not None:\n",
    "            #handles Columbia crash :-(\n",
    "            if mission_data[3] is None:\n",
    "                #mission finished the same month is started\n",
    "                end_date = ' '.join([mission_data[1],mission_data[4],mission_data[5]])\n",
    "            else:\n",
    "                #mission finished a different month\n",
    "                end_date = ' '.join([mission_data[3],mission_data[4],mission_data[5]])\n",
    "            \n",
    "            self.mission_end = datetime.strptime(end_date, MISSION_DATE_FORMAT).strftime('%m/%d/%Y')\n",
    "        \n",
    "        if mission_data[6] is not None:\n",
    "            self.notes = mission_data[6].strip()"
   ]
  },
  {
   "cell_type": "code",
   "execution_count": 3,
   "metadata": {},
   "outputs": [],
   "source": [
    "def try_parsing_date(text):\n",
    "    for fmt in ('%m/%d/%Y', '%m/%d/%y'):\n",
    "        try:\n",
    "            return datetime.strptime(text, fmt)\n",
    "        except ValueError:\n",
    "            pass\n",
    "    raise ValueError('no valid date format found')\n",
    "\n",
    "MISSION_DATE_FORMAT = '%B %d %Y'"
   ]
  },
  {
   "cell_type": "code",
   "execution_count": 4,
   "metadata": {},
   "outputs": [],
   "source": [
    "def getText(filename):\n",
    "    doc = docx.Document(filename)\n",
    "    fullText = []\n",
    "    for para in doc.paragraphs:\n",
    "        fullText.append(para.text)\n",
    "    return fullText"
   ]
  },
  {
   "cell_type": "code",
   "execution_count": 5,
   "metadata": {},
   "outputs": [],
   "source": [
    "full_text = getText('./original data/SPACE SHUTTLE.docx')"
   ]
  },
  {
   "cell_type": "code",
   "execution_count": 6,
   "metadata": {},
   "outputs": [],
   "source": [
    "mission_detail_regex = re.compile(r'''(STS-\\d+-?\\w?)\\s*(\\w+)\\s(\\d+)-?(\\w+\\s)?(\\d+)?,\\s(\\d+)(\\s.*)?''')"
   ]
  },
  {
   "cell_type": "code",
   "execution_count": 7,
   "metadata": {},
   "outputs": [],
   "source": [
    "mission_indices = []\n",
    "missions_list = []\n",
    "for paragraph in full_text:\n",
    "    mission_regex = mission_detail_regex.search(paragraph.strip())\n",
    "    if mission_regex != None:\n",
    "        mission_data = mission_regex.groups()\n",
    "        mission = Mission(mission_data)\n",
    "        mission.first_line = full_text.index(paragraph)\n",
    "        #print(mission_data)\n",
    "        missions_list.append(mission)\n",
    "    else:\n",
    "        pass"
   ]
  },
  {
   "cell_type": "code",
   "execution_count": 8,
   "metadata": {},
   "outputs": [],
   "source": [
    "for index, mission in enumerate(missions_list):\n",
    "    if index <= len(missions_list)-1:\n",
    "        first_song_line = mission.first_line+1\n",
    "        if mission != missions_list[-1]:\n",
    "            last_song_line = missions_list[index+1].first_line\n",
    "        else:\n",
    "            last_song_line = len(full_text)-1\n",
    "        \n",
    "        for line in range(first_song_line, last_song_line):    #gets all the lines in the current mission\n",
    "            text = full_text[line]\n",
    "            song_data_regex = re.compile(r'(\\d+/\\d+/\\d+)\\s*(.*)')\n",
    "            song_regex = song_data_regex.search(text)\n",
    "            if song_regex != None:\n",
    "                mission.days.append({\n",
    "                    'date': try_parsing_date(song_regex.group(1)).strftime('%m/%d/%Y'),\n",
    "                    'data':song_regex.group(2)\n",
    "                })        "
   ]
  },
  {
   "cell_type": "code",
   "execution_count": 9,
   "metadata": {},
   "outputs": [],
   "source": [
    "with open('./formatted data/raw_song_data.tsv', 'w', newline='') as outputFile:\n",
    "    outputWriter = csv.writer(outputFile, delimiter='\\t')\n",
    "    outputWriter.writerow(['mission name', 'date','data']) \n",
    "    for mission in missions_list:\n",
    "        for day in mission.days:\n",
    "            outputWriter.writerow([mission.name, day['date'],day['data']])"
   ]
  },
  {
   "cell_type": "code",
   "execution_count": 11,
   "metadata": {},
   "outputs": [],
   "source": [
    "with open('./formatted data/word_doc_data.json','w') as outputJson:\n",
    "    json.dump([{\n",
    "        'name':m.name,\n",
    "        'start date':m.mission_start,\n",
    "        'end date':m.mission_end,\n",
    "        'notes':m.notes,\n",
    "        'days':[{day['date']:day['data']} for day in m.days]\n",
    "    } for m in missions_list], outputJson, indent=4)"
   ]
  }
 ],
 "metadata": {
  "kernelspec": {
   "display_name": "Python 3",
   "language": "python",
   "name": "python3"
  },
  "language_info": {
   "codemirror_mode": {
    "name": "ipython",
    "version": 3
   },
   "file_extension": ".py",
   "mimetype": "text/x-python",
   "name": "python",
   "nbconvert_exporter": "python",
   "pygments_lexer": "ipython3",
   "version": "3.6.8"
  }
 },
 "nbformat": 4,
 "nbformat_minor": 2
}

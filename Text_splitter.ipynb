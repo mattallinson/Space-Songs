{
 "cells": [
  {
   "cell_type": "code",
   "execution_count": 13,
   "metadata": {},
   "outputs": [],
   "source": [
    "with open(\"untitled.txt\", \"r\") as sf:\n",
    "    stuff = sf.readlines()"
   ]
  },
  {
   "cell_type": "code",
   "execution_count": 67,
   "metadata": {},
   "outputs": [],
   "source": [
    "class Song:\n",
    "    def __init__(self, data):\n",
    "        self.data = data\n",
    "        self.song = None\n",
    "        self.artist = ''\n",
    "    \n",
    "    def data_splitter(self):\n",
    "        separators = [\"-\",\"by\",\"performed by\",\"from\"]\n",
    "\n",
    "        for separator in separators:\n",
    "            if separator in self.data:\n",
    "                self.song = self.data.split(separator)[0]\n",
    "                self.artist = self.data.split(separator)[1]\n",
    "        if self.song == None:\n",
    "            self.song = self.data\n",
    "            \n",
    "        terminators = [\",\", \"\\n\", \".\", \":\", \";\"]\n",
    "        \n",
    "        for term in terminators:\n",
    "            if term in self.artist:\n",
    "                self.artist = self.artist.split(term)[0].strip()"
   ]
  },
  {
   "cell_type": "code",
   "execution_count": 68,
   "metadata": {},
   "outputs": [],
   "source": [
    "test = Song(stuff[0])"
   ]
  },
  {
   "cell_type": "code",
   "execution_count": 74,
   "metadata": {},
   "outputs": [
    {
     "name": "stdout",
     "output_type": "stream",
     "text": [
      "\"Haze Has Melted Away\" \n",
      "\"University of Connecticut Fight Song\" \n",
      "U.S. Coast Guard Hymn “Semper Paratus” (Always Ready), played for Burbank, a Lieutenant Commander in the Coast Guard.\n",
      "\n",
      "“YMCA” was played for Scott Altman at the request of his wife.\n",
      "\n",
      "“Home in the Islands” \n",
      "\"Houston\" \n",
      "\"Incense and Peppermints\" – Strawberry Alarm Clock. The tune is part of the \"Austin Powers: International Man of Mystery\" movie soundtrack and was played for the crew members, who are fans of the film. \n",
      "\n",
      "\"Girls Just Want to Have Fun\" – Cyndi Lauper\n",
      "\n",
      "\"Eikan wa kimi mi Kagayku\" or \"You're the Winner\" or literally \"The Glory is Coming to you\", a Japanese High School Baseball Association Inspirational Marching Song \n",
      "\"Camelot\" \n",
      "\"Je t'aimais, Je t'aime, J'taimerai\" -  A French love song \n"
     ]
    }
   ],
   "source": [
    "for s in stuff[:11]:\n",
    "    st = Song(s)\n",
    "    st.data_splitter()\n",
    "    print(st.song)"
   ]
  },
  {
   "cell_type": "code",
   "execution_count": null,
   "metadata": {},
   "outputs": [],
   "source": []
  },
  {
   "cell_type": "code",
   "execution_count": null,
   "metadata": {},
   "outputs": [],
   "source": []
  }
 ],
 "metadata": {
  "kernelspec": {
   "display_name": "Python 3",
   "language": "python",
   "name": "python3"
  },
  "language_info": {
   "codemirror_mode": {
    "name": "ipython",
    "version": 3
   },
   "file_extension": ".py",
   "mimetype": "text/x-python",
   "name": "python",
   "nbconvert_exporter": "python",
   "pygments_lexer": "ipython3",
   "version": "3.6.8"
  }
 },
 "nbformat": 4,
 "nbformat_minor": 2
}
